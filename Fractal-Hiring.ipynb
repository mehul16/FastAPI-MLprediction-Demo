{
 "cells": [
  {
   "cell_type": "code",
   "execution_count": 1,
   "id": "ffc0ebb9-8a02-40ab-ae02-b1ccbfeebf90",
   "metadata": {},
   "outputs": [],
   "source": [
    "import os\n",
    "import re\n",
    "import pandas as pd\n",
    "import sklearn\n",
    "import matplotlib.pyplot as plt\n",
    "from sklearn.model_selection import train_test_split, GridSearchCV\n",
    "from sklearn.preprocessing import StandardScaler\n",
    "\n",
    "from sklearn.linear_model import LinearRegression\n",
    "from sklearn.linear_model import SGDRegressor\n",
    "\n",
    "from sklearn.metrics import median_absolute_error\n",
    "\n",
    "from sklearn.model_selection import GridSearchCV\n",
    "\n",
    "import pickle\n",
    "\n",
    "%matplotlib inline"
   ]
  },
  {
   "cell_type": "code",
   "execution_count": 2,
   "id": "cd4acda0-cb3c-4d94-87f8-ede496722b12",
   "metadata": {},
   "outputs": [
    {
     "data": {
      "text/plain": [
       "['app.py',\n",
       " 'Dockerfile',\n",
       " 'Fractal-Hiring.ipynb',\n",
       " 'model.pkl',\n",
       " 'requirements.txt',\n",
       " 'submission-mehul.csv',\n",
       " 'test.csv',\n",
       " 'train.csv']"
      ]
     },
     "execution_count": 2,
     "metadata": {},
     "output_type": "execute_result"
    }
   ],
   "source": [
    "os.listdir()"
   ]
  },
  {
   "cell_type": "code",
   "execution_count": 3,
   "id": "1faf0b08-509b-49fd-b1f3-ad89e6a099d5",
   "metadata": {},
   "outputs": [
    {
     "data": {
      "text/html": [
       "<div>\n",
       "<style scoped>\n",
       "    .dataframe tbody tr th:only-of-type {\n",
       "        vertical-align: middle;\n",
       "    }\n",
       "\n",
       "    .dataframe tbody tr th {\n",
       "        vertical-align: top;\n",
       "    }\n",
       "\n",
       "    .dataframe thead th {\n",
       "        text-align: right;\n",
       "    }\n",
       "</style>\n",
       "<table border=\"1\" class=\"dataframe\">\n",
       "  <thead>\n",
       "    <tr style=\"text-align: right;\">\n",
       "      <th></th>\n",
       "      <th>ph</th>\n",
       "      <th>Hardness</th>\n",
       "      <th>Solids</th>\n",
       "      <th>Chloramines</th>\n",
       "      <th>Sulfate</th>\n",
       "      <th>Conductivity</th>\n",
       "      <th>Organic_carbon</th>\n",
       "      <th>Trihalomethanes</th>\n",
       "      <th>Turbidity</th>\n",
       "      <th>Potability</th>\n",
       "    </tr>\n",
       "    <tr>\n",
       "      <th>Index</th>\n",
       "      <th></th>\n",
       "      <th></th>\n",
       "      <th></th>\n",
       "      <th></th>\n",
       "      <th></th>\n",
       "      <th></th>\n",
       "      <th></th>\n",
       "      <th></th>\n",
       "      <th></th>\n",
       "      <th></th>\n",
       "    </tr>\n",
       "  </thead>\n",
       "  <tbody>\n",
       "    <tr>\n",
       "      <th>0</th>\n",
       "      <td>&lt;p&gt;😅The pH value observed is:  0.2644088544860...</td>\n",
       "      <td>&lt;br&gt;😒With a hardness level of  2.6735383052025...</td>\n",
       "      <td>&lt;br&gt;😅The water sample exhibits a total solids ...</td>\n",
       "      <td>1.431972</td>\n",
       "      <td>1.303685</td>\n",
       "      <td>1.563001</td>\n",
       "      <td>0.697062</td>\n",
       "      <td>2.010126</td>\n",
       "      <td>&lt;h1&gt;😀Observing a turbidity value of 1.60887258...</td>\n",
       "      <td>1.252351</td>\n",
       "    </tr>\n",
       "    <tr>\n",
       "      <th>1</th>\n",
       "      <td>&lt;p&gt;😇The solution's pH level is  0.012034498894...</td>\n",
       "      <td>&lt;h1&gt;😀The water hardness is measured at  2.6303...</td>\n",
       "      <td>&lt;br&gt;😒The total solids content in the sample is...</td>\n",
       "      <td>0.911372</td>\n",
       "      <td>1.181754</td>\n",
       "      <td>1.741640</td>\n",
       "      <td>0.896108</td>\n",
       "      <td>1.807786</td>\n",
       "      <td>&lt;br&gt;😁The water sample exhibits a turbidity rea...</td>\n",
       "      <td>1.124565</td>\n",
       "    </tr>\n",
       "    <tr>\n",
       "      <th>2</th>\n",
       "      <td>&lt;br&gt;😀The pH reading measures 0.491167423175516...</td>\n",
       "      <td>&lt;h2&gt;😅With a hardness level of  1.2213782428674...</td>\n",
       "      <td>&lt;h1&gt;😍The water sample exhibits a total solids ...</td>\n",
       "      <td>1.506492</td>\n",
       "      <td>1.700871</td>\n",
       "      <td>2.322337</td>\n",
       "      <td>1.035440</td>\n",
       "      <td>1.548768</td>\n",
       "      <td>&lt;p&gt;😇Observing a turbidity value of 1.008907465...</td>\n",
       "      <td>0.525886</td>\n",
       "    </tr>\n",
       "    <tr>\n",
       "      <th>3</th>\n",
       "      <td>&lt;h1&gt;😅The water sample's pH level is  0.4865531...</td>\n",
       "      <td>&lt;h2&gt;😀With a hardness level of  1.2591335755542...</td>\n",
       "      <td>&lt;h1&gt;😅The total solids content in the sample is...</td>\n",
       "      <td>2.658852</td>\n",
       "      <td>3.035266</td>\n",
       "      <td>2.409255</td>\n",
       "      <td>1.185713</td>\n",
       "      <td>1.232375</td>\n",
       "      <td>&lt;p&gt;😇The water sample exhibits a turbidity read...</td>\n",
       "      <td>0.715288</td>\n",
       "    </tr>\n",
       "    <tr>\n",
       "      <th>4</th>\n",
       "      <td>&lt;p&gt;😍The observed pH value of  0.07548804288855...</td>\n",
       "      <td>&lt;p&gt;😁With a hardness level of  1.65681755735377...</td>\n",
       "      <td>&lt;p&gt;😍The total solids content in the sample is ...</td>\n",
       "      <td>2.169616</td>\n",
       "      <td>1.520531</td>\n",
       "      <td>1.990604</td>\n",
       "      <td>1.237182</td>\n",
       "      <td>1.589307</td>\n",
       "      <td>&lt;h1&gt;😒The water sample exhibits a turbidity rea...</td>\n",
       "      <td>0.890722</td>\n",
       "    </tr>\n",
       "  </tbody>\n",
       "</table>\n",
       "</div>"
      ],
      "text/plain": [
       "                                                      ph  \\\n",
       "Index                                                      \n",
       "0      <p>😅The pH value observed is:  0.2644088544860...   \n",
       "1      <p>😇The solution's pH level is  0.012034498894...   \n",
       "2      <br>😀The pH reading measures 0.491167423175516...   \n",
       "3      <h1>😅The water sample's pH level is  0.4865531...   \n",
       "4      <p>😍The observed pH value of  0.07548804288855...   \n",
       "\n",
       "                                                Hardness  \\\n",
       "Index                                                      \n",
       "0      <br>😒With a hardness level of  2.6735383052025...   \n",
       "1      <h1>😀The water hardness is measured at  2.6303...   \n",
       "2      <h2>😅With a hardness level of  1.2213782428674...   \n",
       "3      <h2>😀With a hardness level of  1.2591335755542...   \n",
       "4      <p>😁With a hardness level of  1.65681755735377...   \n",
       "\n",
       "                                                  Solids  Chloramines  \\\n",
       "Index                                                                   \n",
       "0      <br>😅The water sample exhibits a total solids ...     1.431972   \n",
       "1      <br>😒The total solids content in the sample is...     0.911372   \n",
       "2      <h1>😍The water sample exhibits a total solids ...     1.506492   \n",
       "3      <h1>😅The total solids content in the sample is...     2.658852   \n",
       "4      <p>😍The total solids content in the sample is ...     2.169616   \n",
       "\n",
       "        Sulfate  Conductivity  Organic_carbon  Trihalomethanes  \\\n",
       "Index                                                            \n",
       "0      1.303685      1.563001        0.697062         2.010126   \n",
       "1      1.181754      1.741640        0.896108         1.807786   \n",
       "2      1.700871      2.322337        1.035440         1.548768   \n",
       "3      3.035266      2.409255        1.185713         1.232375   \n",
       "4      1.520531      1.990604        1.237182         1.589307   \n",
       "\n",
       "                                               Turbidity  Potability  \n",
       "Index                                                                 \n",
       "0      <h1>😀Observing a turbidity value of 1.60887258...    1.252351  \n",
       "1      <br>😁The water sample exhibits a turbidity rea...    1.124565  \n",
       "2      <p>😇Observing a turbidity value of 1.008907465...    0.525886  \n",
       "3      <p>😇The water sample exhibits a turbidity read...    0.715288  \n",
       "4      <h1>😒The water sample exhibits a turbidity rea...    0.890722  "
      ]
     },
     "execution_count": 3,
     "metadata": {},
     "output_type": "execute_result"
    }
   ],
   "source": [
    "df = pd.read_csv(\"train.csv\", index_col = \"Index\")\n",
    "df.head()"
   ]
  },
  {
   "cell_type": "code",
   "execution_count": 4,
   "id": "2aa8b6e7-e4ec-4e32-9cff-8a46736b361b",
   "metadata": {},
   "outputs": [
    {
     "data": {
      "text/html": [
       "<div>\n",
       "<style scoped>\n",
       "    .dataframe tbody tr th:only-of-type {\n",
       "        vertical-align: middle;\n",
       "    }\n",
       "\n",
       "    .dataframe tbody tr th {\n",
       "        vertical-align: top;\n",
       "    }\n",
       "\n",
       "    .dataframe thead th {\n",
       "        text-align: right;\n",
       "    }\n",
       "</style>\n",
       "<table border=\"1\" class=\"dataframe\">\n",
       "  <thead>\n",
       "    <tr style=\"text-align: right;\">\n",
       "      <th></th>\n",
       "      <th>Chloramines</th>\n",
       "      <th>Sulfate</th>\n",
       "      <th>Conductivity</th>\n",
       "      <th>Organic_carbon</th>\n",
       "      <th>Trihalomethanes</th>\n",
       "      <th>Potability</th>\n",
       "      <th>values_ph</th>\n",
       "      <th>values_hardness</th>\n",
       "      <th>values_solids</th>\n",
       "      <th>values_turbidity</th>\n",
       "    </tr>\n",
       "    <tr>\n",
       "      <th>Index</th>\n",
       "      <th></th>\n",
       "      <th></th>\n",
       "      <th></th>\n",
       "      <th></th>\n",
       "      <th></th>\n",
       "      <th></th>\n",
       "      <th></th>\n",
       "      <th></th>\n",
       "      <th></th>\n",
       "      <th></th>\n",
       "    </tr>\n",
       "  </thead>\n",
       "  <tbody>\n",
       "    <tr>\n",
       "      <th>0</th>\n",
       "      <td>1.431972</td>\n",
       "      <td>1.303685</td>\n",
       "      <td>1.563001</td>\n",
       "      <td>0.697062</td>\n",
       "      <td>2.010126</td>\n",
       "      <td>1.252351</td>\n",
       "      <td>0.2644088544860405</td>\n",
       "      <td>2.6735383052025394</td>\n",
       "      <td>2.3367434736028416</td>\n",
       "      <td>1.608872586633192</td>\n",
       "    </tr>\n",
       "    <tr>\n",
       "      <th>1</th>\n",
       "      <td>0.911372</td>\n",
       "      <td>1.181754</td>\n",
       "      <td>1.741640</td>\n",
       "      <td>0.896108</td>\n",
       "      <td>1.807786</td>\n",
       "      <td>1.124565</td>\n",
       "      <td>0.012034498894414648</td>\n",
       "      <td>2.6303227767376702</td>\n",
       "      <td>2.4958525199015145</td>\n",
       "      <td>1.4784302501598692</td>\n",
       "    </tr>\n",
       "  </tbody>\n",
       "</table>\n",
       "</div>"
      ],
      "text/plain": [
       "       Chloramines   Sulfate  Conductivity  Organic_carbon  Trihalomethanes  \\\n",
       "Index                                                                         \n",
       "0         1.431972  1.303685      1.563001        0.697062         2.010126   \n",
       "1         0.911372  1.181754      1.741640        0.896108         1.807786   \n",
       "\n",
       "       Potability             values_ph     values_hardness  \\\n",
       "Index                                                         \n",
       "0        1.252351    0.2644088544860405  2.6735383052025394   \n",
       "1        1.124565  0.012034498894414648  2.6303227767376702   \n",
       "\n",
       "            values_solids    values_turbidity  \n",
       "Index                                          \n",
       "0      2.3367434736028416   1.608872586633192  \n",
       "1      2.4958525199015145  1.4784302501598692  "
      ]
     },
     "execution_count": 4,
     "metadata": {},
     "output_type": "execute_result"
    }
   ],
   "source": [
    "# Extracting values\n",
    "\n",
    "df[\"values_ph\"] = df[\"ph\"].str.findall(r'\\d+\\.\\d+').transform(''.join)\n",
    "df[\"values_hardness\"] = df[\"Hardness\"].str.findall(r'\\d+\\.\\d+').transform(''.join)\n",
    "df[\"values_solids\"] = df[\"Solids\"].str.findall(r'\\d+\\.\\d+').transform(''.join)\n",
    "df[\"values_turbidity\"] = df[\"Turbidity\"].str.findall(r'\\d+\\.\\d+').transform(''.join)\n",
    "\n",
    "\n",
    "# dropping columns\n",
    "\n",
    "df.drop([\"ph\", \"Hardness\", \"Solids\", \"Turbidity\"], axis = 1, inplace = True)\n",
    "\n",
    "df.head(2)"
   ]
  },
  {
   "cell_type": "code",
   "execution_count": 5,
   "id": "221d513b-98cf-417f-844c-34b2750e4f2a",
   "metadata": {},
   "outputs": [
    {
     "name": "stdout",
     "output_type": "stream",
     "text": [
      "Duplicated : 0\n",
      "isNa values : Chloramines         0\n",
      "Sulfate             0\n",
      "Conductivity        0\n",
      "Organic_carbon      0\n",
      "Trihalomethanes     0\n",
      "Potability          0\n",
      "values_ph           0\n",
      "values_hardness     0\n",
      "values_solids       0\n",
      "values_turbidity    0\n",
      "dtype: int64\n"
     ]
    }
   ],
   "source": [
    "# checking duplicated or null\n",
    "\n",
    "print(\"Duplicated : {}\".format(df.duplicated().sum()))\n",
    "print(\"isNa values : {}\".format(df.isna().sum()))"
   ]
  },
  {
   "cell_type": "code",
   "execution_count": 6,
   "id": "e12f37b8-4ca9-474a-9fcb-1d0ac4838d7f",
   "metadata": {},
   "outputs": [
    {
     "name": "stdout",
     "output_type": "stream",
     "text": [
      "        Chloramines       Sulfate  Conductivity  Organic_carbon  \\\n",
      "count  10000.000000  10000.000000  10000.000000    10000.000000   \n",
      "mean       1.577655      1.846947      2.106003        1.253408   \n",
      "std        0.455594      0.534522      0.605440        0.360951   \n",
      "min        0.771551      0.852042      0.960479        0.554247   \n",
      "25%        1.195690      1.404213      1.608786        0.953677   \n",
      "50%        1.516832      1.774148      2.024260        1.204477   \n",
      "75%        1.919671      2.238055      2.537743        1.512738   \n",
      "max        2.974793      3.649794      4.153664        2.507518   \n",
      "\n",
      "       Trihalomethanes    Potability  \n",
      "count     10000.000000  10000.000000  \n",
      "mean          1.774500      0.964083  \n",
      "std           0.516305      0.280262  \n",
      "min           0.782468      0.367202  \n",
      "25%           1.358345      0.756679  \n",
      "50%           1.700410      0.924841  \n",
      "75%           2.132153      1.132913  \n",
      "max           3.795695      2.219079  \n"
     ]
    },
    {
     "data": {
      "text/plain": [
       "array([[<Axes: title={'center': 'Chloramines'}>,\n",
       "        <Axes: title={'center': 'Sulfate'}>],\n",
       "       [<Axes: title={'center': 'Conductivity'}>,\n",
       "        <Axes: title={'center': 'Organic_carbon'}>],\n",
       "       [<Axes: title={'center': 'Trihalomethanes'}>,\n",
       "        <Axes: title={'center': 'Potability'}>]], dtype=object)"
      ]
     },
     "execution_count": 6,
     "metadata": {},
     "output_type": "execute_result"
    },
    {
     "data": {
      "image/png": "[encoded data removed]",
      "text/plain": [
       "<Figure size 640x480 with 6 Axes>"
      ]
     },
     "metadata": {},
     "output_type": "display_data"
    }
   ],
   "source": [
    "# describe data\n",
    "\n",
    "print(df.describe())\n",
    "df.hist()"
   ]
  },
  {
   "cell_type": "markdown",
   "id": "765a636b-66d6-46e2-b8a5-be2dfa49c58e",
   "metadata": {},
   "source": [
    "we see all distribution of data is left skewed. we need to correct this."
   ]
  },
  {
   "cell_type": "code",
   "execution_count": 7,
   "id": "d6e2a27f-4324-4e6b-8255-3bf3e05614ac",
   "metadata": {},
   "outputs": [
    {
     "name": "stdout",
     "output_type": "stream",
     "text": [
      "<class 'pandas.core.frame.DataFrame'>\n",
      "Index: 10000 entries, 0 to 9999\n",
      "Data columns (total 10 columns):\n",
      " #   Column            Non-Null Count  Dtype  \n",
      "---  ------            --------------  -----  \n",
      " 0   Chloramines       10000 non-null  float64\n",
      " 1   Sulfate           10000 non-null  float64\n",
      " 2   Conductivity      10000 non-null  float64\n",
      " 3   Organic_carbon    10000 non-null  float64\n",
      " 4   Trihalomethanes   10000 non-null  float64\n",
      " 5   Potability        10000 non-null  float64\n",
      " 6   values_ph         10000 non-null  float64\n",
      " 7   values_hardness   10000 non-null  float64\n",
      " 8   values_solids     10000 non-null  float64\n",
      " 9   values_turbidity  10000 non-null  float64\n",
      "dtypes: float64(10)\n",
      "memory usage: 859.4 KB\n"
     ]
    }
   ],
   "source": [
    "# converting to float\n",
    "\n",
    "df['values_ph'] = df['values_ph'].astype(float)\n",
    "df['values_hardness'] = df['values_hardness'].astype(float)\n",
    "df['values_solids'] = df['values_solids'].astype(float)\n",
    "df['values_turbidity'] = df['values_turbidity'].astype(float)\n",
    "\n",
    "df.info()"
   ]
  },
  {
   "cell_type": "markdown",
   "id": "00da0c20-b5fa-4f9c-80a1-e56b6df699aa",
   "metadata": {},
   "source": [
    "Splitting into train-test"
   ]
  },
  {
   "cell_type": "code",
   "execution_count": 8,
   "id": "6a5edfd0-5248-477a-aa08-0c8247bc99b0",
   "metadata": {},
   "outputs": [],
   "source": [
    "# train test split & seed = 42\n",
    "\n",
    "X = df.drop('Potability', axis=1)  # Features\n",
    "y = df['Potability']            # Target variable\n",
    "\n",
    "X_train, X_test, y_train, y_test = train_test_split(X, y, test_size=0.1, random_state=42)"
   ]
  },
  {
   "cell_type": "code",
   "execution_count": 9,
   "id": "694ba06d-9678-4ffd-95bc-a5db5be97cb6",
   "metadata": {},
   "outputs": [],
   "source": [
    "# Standardize or z-scale\n",
    "scaler = StandardScaler()\n",
    "\n",
    "X_train = scaler.fit_transform(X_train)\n",
    "X_test = scaler.transform(X_test)"
   ]
  },
  {
   "cell_type": "markdown",
   "id": "356d6065-15c5-4f91-b587-2a6b864ef128",
   "metadata": {},
   "source": [
    "use error function:\n",
    "\n",
    "score = max(0, 100*(1-metrics.median_absolute_error(actual, predicted)))"
   ]
  },
  {
   "cell_type": "code",
   "execution_count": 10,
   "id": "8321d2af-4ea3-4301-be5e-c74d9a3a9ab7",
   "metadata": {},
   "outputs": [
    {
     "name": "stdout",
     "output_type": "stream",
     "text": [
      "Linear Regression - Evaluated score for the model : 85.76084464083348\n"
     ]
    }
   ],
   "source": [
    "# Initialize the model\n",
    "model = LinearRegression()\n",
    "\n",
    "model.fit(X_train, y_train)\n",
    "\n",
    "y_pred = model.predict(X_test)\n",
    "\n",
    "score = max(0, 100*(1-median_absolute_error(y_test, y_pred)))\n",
    "\n",
    "print(\"Linear Regression - Evaluated score for the model : {}\" .format(score))"
   ]
  },
  {
   "cell_type": "code",
   "execution_count": 11,
   "id": "1bcd1065-b315-47bd-8702-2ce86a5769d5",
   "metadata": {},
   "outputs": [
    {
     "name": "stdout",
     "output_type": "stream",
     "text": [
      "SGDRegressor - Evaluated score for the model : 81.55840448292544\n"
     ]
    }
   ],
   "source": [
    "# Initialize the model with an appropriate learning rate\n",
    "model = SGDRegressor(learning_rate='constant', eta0=0.1)\n",
    "\n",
    "# Fit the model\n",
    "model.fit(X_train, y_train)\n",
    "y_pred = model.predict(X_test)\n",
    "\n",
    "score = max(0, 100*(1-median_absolute_error(y_test, y_pred)))\n",
    "print(\"SGDRegressor - Evaluated score for the model : {}\" .format(score))"
   ]
  },
  {
   "cell_type": "code",
   "execution_count": 12,
   "id": "02b5f73a-f31d-4a1c-b895-457098beec6b",
   "metadata": {},
   "outputs": [],
   "source": [
    "# score function\n",
    "\n",
    "def score_custom(a, b):\n",
    "    return max(0, 100*(1-median_absolute_error(a, b)))\n",
    "    "
   ]
  },
  {
   "cell_type": "code",
   "execution_count": 13,
   "id": "26a7d7bd-d0cb-483b-b00d-64269cf7cb20",
   "metadata": {},
   "outputs": [],
   "source": [
    "# Define the model\n",
    "model = SGDRegressor()\n",
    "\n",
    "# Define a parameter grid for hyperparameter tuning\n",
    "param_grid = {'alpha': [1e-5, 1e-3, 1e-1], 'penalty': ['l1', 'l2'], 'learning_rate': ['constant', 'optimal', 'adaptive']}\n",
    "\n",
    "\n",
    "# GridSearchCV\n",
    "grid_search = GridSearchCV(estimator=model, param_grid=param_grid, cv=5)\n",
    "\n"
   ]
  },
  {
   "cell_type": "code",
   "execution_count": 14,
   "id": "24ec9adc-5caa-4c1e-a00e-2a438e30448d",
   "metadata": {},
   "outputs": [
    {
     "name": "stdout",
     "output_type": "stream",
     "text": [
      "Best Parameters: {grid_search.best_params_}\n",
      "Best Score: {grid_search.best_score_}\n",
      "Final score: 85.73905654876671\n"
     ]
    }
   ],
   "source": [
    "# Fit the grid search model to the training data\n",
    "grid_search.fit(X_train, y_train)\n",
    "\n",
    "# Print the best parameters and score\n",
    "print('Best Parameters: {grid_search.best_params_}')\n",
    "print('Best Score: {grid_search.best_score_}')\n",
    "\n",
    "# Evaluate the best model on the test set\n",
    "\n",
    "best_model = grid_search.best_estimator_\n",
    "\n",
    "y_pred = best_model.predict(X_test)\n",
    "final_score = score_custom(y_test, y_pred)\n",
    "print(f'Final score: {final_score}')\n",
    "\n",
    "y_pred = best_model.predict(X_test)\n"
   ]
  },
  {
   "cell_type": "code",
   "execution_count": 15,
   "id": "4a6e1df1-7491-4b05-b673-6c1b356d1685",
   "metadata": {},
   "outputs": [],
   "source": [
    "del df"
   ]
  },
  {
   "cell_type": "markdown",
   "id": "2a13fcf1-fd35-4b8f-a9a2-856413e3baab",
   "metadata": {},
   "source": [
    "### Test Data"
   ]
  },
  {
   "cell_type": "code",
   "execution_count": 16,
   "id": "f4d1cf6c-20f4-489f-8072-935e70a58ae7",
   "metadata": {},
   "outputs": [
    {
     "data": {
      "text/html": [
       "<div>\n",
       "<style scoped>\n",
       "    .dataframe tbody tr th:only-of-type {\n",
       "        vertical-align: middle;\n",
       "    }\n",
       "\n",
       "    .dataframe tbody tr th {\n",
       "        vertical-align: top;\n",
       "    }\n",
       "\n",
       "    .dataframe thead th {\n",
       "        text-align: right;\n",
       "    }\n",
       "</style>\n",
       "<table border=\"1\" class=\"dataframe\">\n",
       "  <thead>\n",
       "    <tr style=\"text-align: right;\">\n",
       "      <th></th>\n",
       "      <th>ph</th>\n",
       "      <th>Hardness</th>\n",
       "      <th>Solids</th>\n",
       "      <th>Chloramines</th>\n",
       "      <th>Sulfate</th>\n",
       "      <th>Conductivity</th>\n",
       "      <th>Organic_carbon</th>\n",
       "      <th>Trihalomethanes</th>\n",
       "      <th>Turbidity</th>\n",
       "    </tr>\n",
       "    <tr>\n",
       "      <th>Index</th>\n",
       "      <th></th>\n",
       "      <th></th>\n",
       "      <th></th>\n",
       "      <th></th>\n",
       "      <th></th>\n",
       "      <th></th>\n",
       "      <th></th>\n",
       "      <th></th>\n",
       "      <th></th>\n",
       "    </tr>\n",
       "  </thead>\n",
       "  <tbody>\n",
       "    <tr>\n",
       "      <th>10000</th>\n",
       "      <td>&lt;br&gt;😒The observed pH value of  0.4583260930518...</td>\n",
       "      <td>&lt;h1&gt;😁The observed water hardness of  1.7903445...</td>\n",
       "      <td>&lt;p&gt;😁Observing a solids concentration of  1.573...</td>\n",
       "      <td>1.540880</td>\n",
       "      <td>1.659576</td>\n",
       "      <td>2.156778</td>\n",
       "      <td>1.665096</td>\n",
       "      <td>2.105437</td>\n",
       "      <td>&lt;br&gt;😅The turbidity of the water is measured at...</td>\n",
       "    </tr>\n",
       "    <tr>\n",
       "      <th>10001</th>\n",
       "      <td>&lt;br&gt;😀The pH value observed is:  0.006163832801...</td>\n",
       "      <td>&lt;p&gt;😁The observed water hardness of  2.37971669...</td>\n",
       "      <td>&lt;h1&gt;😒The total solids content in the sample is...</td>\n",
       "      <td>1.225821</td>\n",
       "      <td>1.320635</td>\n",
       "      <td>2.251759</td>\n",
       "      <td>1.333259</td>\n",
       "      <td>1.480757</td>\n",
       "      <td>&lt;p&gt;😅The water sample exhibits a turbidity read...</td>\n",
       "    </tr>\n",
       "    <tr>\n",
       "      <th>10002</th>\n",
       "      <td>&lt;h2&gt;😀The pH reading measures 0.682188913921691...</td>\n",
       "      <td>&lt;h2&gt;😇The observed water hardness of  1.4080275...</td>\n",
       "      <td>&lt;p&gt;😍The total solids content in the sample is ...</td>\n",
       "      <td>2.430112</td>\n",
       "      <td>1.178618</td>\n",
       "      <td>1.614353</td>\n",
       "      <td>0.890702</td>\n",
       "      <td>1.824291</td>\n",
       "      <td>&lt;br&gt;😀Observing a turbidity value of 1.11871445...</td>\n",
       "    </tr>\n",
       "    <tr>\n",
       "      <th>10003</th>\n",
       "      <td>&lt;p&gt;😀The observed pH value of  0.56282397372454...</td>\n",
       "      <td>&lt;br&gt;😀The observed water hardness of  1.8369703...</td>\n",
       "      <td>&lt;h1&gt;😍The total solids content in the sample is...</td>\n",
       "      <td>1.910825</td>\n",
       "      <td>2.731592</td>\n",
       "      <td>1.626107</td>\n",
       "      <td>0.711949</td>\n",
       "      <td>2.598104</td>\n",
       "      <td>&lt;br&gt;😍The turbidity of the water is measured at...</td>\n",
       "    </tr>\n",
       "    <tr>\n",
       "      <th>10004</th>\n",
       "      <td>&lt;h1&gt;😇The pH reading measures 0.336142283595807...</td>\n",
       "      <td>&lt;h1&gt;😀The water hardness is measured at  1.5104...</td>\n",
       "      <td>&lt;br&gt;😀Observing a solids concentration of  2.33...</td>\n",
       "      <td>1.940168</td>\n",
       "      <td>1.269851</td>\n",
       "      <td>1.832447</td>\n",
       "      <td>0.947763</td>\n",
       "      <td>1.052021</td>\n",
       "      <td>&lt;h1&gt;😁The water sample exhibits a turbidity rea...</td>\n",
       "    </tr>\n",
       "  </tbody>\n",
       "</table>\n",
       "</div>"
      ],
      "text/plain": [
       "                                                      ph  \\\n",
       "Index                                                      \n",
       "10000  <br>😒The observed pH value of  0.4583260930518...   \n",
       "10001  <br>😀The pH value observed is:  0.006163832801...   \n",
       "10002  <h2>😀The pH reading measures 0.682188913921691...   \n",
       "10003  <p>😀The observed pH value of  0.56282397372454...   \n",
       "10004  <h1>😇The pH reading measures 0.336142283595807...   \n",
       "\n",
       "                                                Hardness  \\\n",
       "Index                                                      \n",
       "10000  <h1>😁The observed water hardness of  1.7903445...   \n",
       "10001  <p>😁The observed water hardness of  2.37971669...   \n",
       "10002  <h2>😇The observed water hardness of  1.4080275...   \n",
       "10003  <br>😀The observed water hardness of  1.8369703...   \n",
       "10004  <h1>😀The water hardness is measured at  1.5104...   \n",
       "\n",
       "                                                  Solids  Chloramines  \\\n",
       "Index                                                                   \n",
       "10000  <p>😁Observing a solids concentration of  1.573...     1.540880   \n",
       "10001  <h1>😒The total solids content in the sample is...     1.225821   \n",
       "10002  <p>😍The total solids content in the sample is ...     2.430112   \n",
       "10003  <h1>😍The total solids content in the sample is...     1.910825   \n",
       "10004  <br>😀Observing a solids concentration of  2.33...     1.940168   \n",
       "\n",
       "        Sulfate  Conductivity  Organic_carbon  Trihalomethanes  \\\n",
       "Index                                                            \n",
       "10000  1.659576      2.156778        1.665096         2.105437   \n",
       "10001  1.320635      2.251759        1.333259         1.480757   \n",
       "10002  1.178618      1.614353        0.890702         1.824291   \n",
       "10003  2.731592      1.626107        0.711949         2.598104   \n",
       "10004  1.269851      1.832447        0.947763         1.052021   \n",
       "\n",
       "                                               Turbidity  \n",
       "Index                                                     \n",
       "10000  <br>😅The turbidity of the water is measured at...  \n",
       "10001  <p>😅The water sample exhibits a turbidity read...  \n",
       "10002  <br>😀Observing a turbidity value of 1.11871445...  \n",
       "10003  <br>😍The turbidity of the water is measured at...  \n",
       "10004  <h1>😁The water sample exhibits a turbidity rea...  "
      ]
     },
     "execution_count": 16,
     "metadata": {},
     "output_type": "execute_result"
    }
   ],
   "source": [
    "df_test = pd.read_csv(\"test.csv\", index_col = \"Index\")\n",
    "df_test.head()"
   ]
  },
  {
   "cell_type": "code",
   "execution_count": 17,
   "id": "ef30b7de-3711-417c-8fc7-d758206c6e01",
   "metadata": {},
   "outputs": [
    {
     "name": "stdout",
     "output_type": "stream",
     "text": [
      "<class 'pandas.core.frame.DataFrame'>\n",
      "Index: 5000 entries, 10000 to 14999\n",
      "Data columns (total 9 columns):\n",
      " #   Column            Non-Null Count  Dtype  \n",
      "---  ------            --------------  -----  \n",
      " 0   Chloramines       5000 non-null   float64\n",
      " 1   Sulfate           5000 non-null   float64\n",
      " 2   Conductivity      5000 non-null   float64\n",
      " 3   Organic_carbon    5000 non-null   float64\n",
      " 4   Trihalomethanes   5000 non-null   float64\n",
      " 5   values_ph         5000 non-null   float64\n",
      " 6   values_hardness   5000 non-null   float64\n",
      " 7   values_solids     5000 non-null   float64\n",
      " 8   values_turbidity  5000 non-null   float64\n",
      "dtypes: float64(9)\n",
      "memory usage: 390.6 KB\n"
     ]
    }
   ],
   "source": [
    "# Extracting values\n",
    "\n",
    "df_test[\"values_ph\"] = df_test[\"ph\"].str.findall(r'\\d+\\.\\d+').transform(''.join)\n",
    "df_test[\"values_hardness\"] = df_test[\"Hardness\"].str.findall(r'\\d+\\.\\d+').transform(''.join)\n",
    "df_test[\"values_solids\"] = df_test[\"Solids\"].str.findall(r'\\d+\\.\\d+').transform(''.join)\n",
    "df_test[\"values_turbidity\"] = df_test[\"Turbidity\"].str.findall(r'\\d+\\.\\d+').transform(''.join)\n",
    "\n",
    "# converting to float\n",
    "\n",
    "df_test['values_ph'] = df_test['values_ph'].astype(float)\n",
    "df_test['values_hardness'] = df_test['values_hardness'].astype(float)\n",
    "df_test['values_solids'] = df_test['values_solids'].astype(float)\n",
    "df_test['values_turbidity'] = df_test['values_turbidity'].astype(float)\n",
    "\n",
    "# dropping columns\n",
    "df_test.drop([\"ph\", \"Hardness\", \"Solids\", \"Turbidity\"], axis = 1, inplace = True)\n",
    "\n",
    "df_test.info()"
   ]
  },
  {
   "cell_type": "code",
   "execution_count": 18,
   "id": "79be3571-a2bf-42b9-96e0-b56374848135",
   "metadata": {},
   "outputs": [
    {
     "name": "stdout",
     "output_type": "stream",
     "text": [
      "[1.57948132 1.8475778  2.1079807  1.25334713 1.77475237 0.41834317\n",
      " 1.79359513 1.88550002 1.23699266]\n"
     ]
    }
   ],
   "source": [
    "# Standardize or z-scale\n",
    "# scaler = StandardScaler()\n",
    "\n",
    "final_X_test = scaler.transform(df_test)\n",
    "scaler_mean = scaler.mean_\n",
    "print(scaler_mean)"
   ]
  },
  {
   "cell_type": "code",
   "execution_count": 19,
   "id": "c8204c0d-edda-470f-bf5c-7ca06f18806c",
   "metadata": {},
   "outputs": [
    {
     "data": {
      "text/plain": [
       "array([[-0.08492592, -0.3525887 ,  0.08071821, ..., -0.00628741,\n",
       "        -0.57751528, -0.7140946 ],\n",
       "       [-0.77808921, -0.98825589,  0.2378317 , ...,  1.13369167,\n",
       "        -0.93478386,  0.7406281 ],\n",
       "       [ 1.87147619, -1.25460282, -0.8165346 , ..., -0.74577484,\n",
       "         0.27911743, -0.32988285],\n",
       "       ...,\n",
       "       [ 0.83188674,  1.03986962, -0.62431238, ...,  0.10470668,\n",
       "         1.41877893, -0.21133889],\n",
       "       [-0.70232189, -0.68582353,  1.08327755, ..., -0.74552388,\n",
       "        -0.59692506,  0.29533799],\n",
       "       [-0.77629651, -0.07015378, -0.57116885, ..., -1.00334599,\n",
       "         1.61037202, -1.05690075]])"
      ]
     },
     "execution_count": 19,
     "metadata": {},
     "output_type": "execute_result"
    }
   ],
   "source": [
    "final_X_test"
   ]
  },
  {
   "cell_type": "code",
   "execution_count": 20,
   "id": "26c05b59-3089-431d-b535-5bb22095a836",
   "metadata": {},
   "outputs": [],
   "source": [
    "y_pred_test = best_model.predict(final_X_test)"
   ]
  },
  {
   "cell_type": "code",
   "execution_count": 21,
   "id": "dc94acd9-5cb3-4c54-91da-88975d7f9570",
   "metadata": {},
   "outputs": [
    {
     "data": {
      "text/plain": [
       "array([1.03850012, 1.08677141, 1.06467474, ..., 1.33855324, 0.86475394,\n",
       "       0.97053605])"
      ]
     },
     "execution_count": 21,
     "metadata": {},
     "output_type": "execute_result"
    }
   ],
   "source": [
    "y_pred_test"
   ]
  },
  {
   "cell_type": "code",
   "execution_count": 22,
   "id": "ddb304b8-8e39-4fea-ba42-ec32b55f6a3b",
   "metadata": {},
   "outputs": [],
   "source": [
    "df_test[\"Potability\"] = y_pred_test"
   ]
  },
  {
   "cell_type": "code",
   "execution_count": 23,
   "id": "e39beeb7-e381-4a09-926b-5105ae073ced",
   "metadata": {},
   "outputs": [
    {
     "data": {
      "text/html": [
       "<div>\n",
       "<style scoped>\n",
       "    .dataframe tbody tr th:only-of-type {\n",
       "        vertical-align: middle;\n",
       "    }\n",
       "\n",
       "    .dataframe tbody tr th {\n",
       "        vertical-align: top;\n",
       "    }\n",
       "\n",
       "    .dataframe thead th {\n",
       "        text-align: right;\n",
       "    }\n",
       "</style>\n",
       "<table border=\"1\" class=\"dataframe\">\n",
       "  <thead>\n",
       "    <tr style=\"text-align: right;\">\n",
       "      <th></th>\n",
       "      <th>Chloramines</th>\n",
       "      <th>Sulfate</th>\n",
       "      <th>Conductivity</th>\n",
       "      <th>Organic_carbon</th>\n",
       "      <th>Trihalomethanes</th>\n",
       "      <th>values_ph</th>\n",
       "      <th>values_hardness</th>\n",
       "      <th>values_solids</th>\n",
       "      <th>values_turbidity</th>\n",
       "      <th>Potability</th>\n",
       "    </tr>\n",
       "    <tr>\n",
       "      <th>Index</th>\n",
       "      <th></th>\n",
       "      <th></th>\n",
       "      <th></th>\n",
       "      <th></th>\n",
       "      <th></th>\n",
       "      <th></th>\n",
       "      <th></th>\n",
       "      <th></th>\n",
       "      <th></th>\n",
       "      <th></th>\n",
       "    </tr>\n",
       "  </thead>\n",
       "  <tbody>\n",
       "    <tr>\n",
       "      <th>10000</th>\n",
       "      <td>1.540880</td>\n",
       "      <td>1.659576</td>\n",
       "      <td>2.156778</td>\n",
       "      <td>1.665096</td>\n",
       "      <td>2.105437</td>\n",
       "      <td>0.458326</td>\n",
       "      <td>1.790345</td>\n",
       "      <td>1.573929</td>\n",
       "      <td>0.980957</td>\n",
       "      <td>1.038500</td>\n",
       "    </tr>\n",
       "    <tr>\n",
       "      <th>10001</th>\n",
       "      <td>1.225821</td>\n",
       "      <td>1.320635</td>\n",
       "      <td>2.251759</td>\n",
       "      <td>1.333259</td>\n",
       "      <td>1.480757</td>\n",
       "      <td>0.006164</td>\n",
       "      <td>2.379717</td>\n",
       "      <td>1.381182</td>\n",
       "      <td>1.502542</td>\n",
       "      <td>1.086771</td>\n",
       "    </tr>\n",
       "    <tr>\n",
       "      <th>10002</th>\n",
       "      <td>2.430112</td>\n",
       "      <td>1.178618</td>\n",
       "      <td>1.614353</td>\n",
       "      <td>0.890702</td>\n",
       "      <td>1.824291</td>\n",
       "      <td>0.682189</td>\n",
       "      <td>1.408028</td>\n",
       "      <td>2.036084</td>\n",
       "      <td>1.118714</td>\n",
       "      <td>1.064675</td>\n",
       "    </tr>\n",
       "    <tr>\n",
       "      <th>10003</th>\n",
       "      <td>1.910825</td>\n",
       "      <td>2.731592</td>\n",
       "      <td>1.626107</td>\n",
       "      <td>0.711949</td>\n",
       "      <td>2.598104</td>\n",
       "      <td>0.562824</td>\n",
       "      <td>1.836970</td>\n",
       "      <td>2.525041</td>\n",
       "      <td>1.674618</td>\n",
       "      <td>0.821292</td>\n",
       "    </tr>\n",
       "    <tr>\n",
       "      <th>10004</th>\n",
       "      <td>1.940168</td>\n",
       "      <td>1.269851</td>\n",
       "      <td>1.832447</td>\n",
       "      <td>0.947763</td>\n",
       "      <td>1.052021</td>\n",
       "      <td>0.336142</td>\n",
       "      <td>1.510495</td>\n",
       "      <td>2.338528</td>\n",
       "      <td>1.046728</td>\n",
       "      <td>1.230239</td>\n",
       "    </tr>\n",
       "  </tbody>\n",
       "</table>\n",
       "</div>"
      ],
      "text/plain": [
       "       Chloramines   Sulfate  Conductivity  Organic_carbon  Trihalomethanes  \\\n",
       "Index                                                                         \n",
       "10000     1.540880  1.659576      2.156778        1.665096         2.105437   \n",
       "10001     1.225821  1.320635      2.251759        1.333259         1.480757   \n",
       "10002     2.430112  1.178618      1.614353        0.890702         1.824291   \n",
       "10003     1.910825  2.731592      1.626107        0.711949         2.598104   \n",
       "10004     1.940168  1.269851      1.832447        0.947763         1.052021   \n",
       "\n",
       "       values_ph  values_hardness  values_solids  values_turbidity  Potability  \n",
       "Index                                                                           \n",
       "10000   0.458326         1.790345       1.573929          0.980957    1.038500  \n",
       "10001   0.006164         2.379717       1.381182          1.502542    1.086771  \n",
       "10002   0.682189         1.408028       2.036084          1.118714    1.064675  \n",
       "10003   0.562824         1.836970       2.525041          1.674618    0.821292  \n",
       "10004   0.336142         1.510495       2.338528          1.046728    1.230239  "
      ]
     },
     "execution_count": 23,
     "metadata": {},
     "output_type": "execute_result"
    }
   ],
   "source": [
    "df_test.head()"
   ]
  },
  {
   "cell_type": "code",
   "execution_count": 24,
   "id": "37757b8f-996e-4928-bfaf-f51539013240",
   "metadata": {},
   "outputs": [],
   "source": [
    "df_test[\"Potability\"].to_csv(\"submission-mehul.csv\", index = True)"
   ]
  },
  {
   "cell_type": "code",
   "execution_count": 25,
   "id": "7ef85e3f",
   "metadata": {},
   "outputs": [
    {
     "name": "stdout",
     "output_type": "stream",
     "text": [
      "Model trained and saved as model.pkl\n"
     ]
    }
   ],
   "source": [
    "with open('model.pkl', 'wb') as f:\n",
    "    pickle.dump(best_model, f)\n",
    "print(\"Model trained and saved as model.pkl\")"
   ]
  },
  {
   "cell_type": "code",
   "execution_count": 26,
   "id": "d8dc0345",
   "metadata": {},
   "outputs": [],
   "source": [
    "def predict(input_list_data):\n",
    "    # Load the saved model\n",
    "    with open('model.pkl', 'rb') as f:\n",
    "        model = pickle.load(f)\n",
    "    \n",
    "    # Test data (sample input for prediction)\n",
    "    test_data = input_list_data\n",
    "    prediction = model.predict([test_data])\n",
    "    \n",
    "    print(f\"Prediction for {test_data}: {prediction}\")"
   ]
  },
  {
   "cell_type": "code",
   "execution_count": 27,
   "id": "2687d7bb",
   "metadata": {},
   "outputs": [
    {
     "name": "stdout",
     "output_type": "stream",
     "text": [
      "Prediction for [-0.08492, -0.3525887, 0.08071821, 1.1405515, 0.63897538, 0.13168923, -0.00628741, -0.57751528, -0.7140946]: [1.03850071]\n"
     ]
    }
   ],
   "source": [
    "if __name__ == '__main__':\n",
    "    # train_model()\n",
    "    predict(input_list_data=[-0.08492, -0.3525887 ,  0.08071821,  1.1405515 ,  0.63897538,\n",
    "        0.13168923, -0.00628741, -0.57751528, -0.7140946 ])"
   ]
  },
  {
   "cell_type": "code",
   "execution_count": 28,
   "id": "4644369a",
   "metadata": {},
   "outputs": [
    {
     "name": "stdout",
     "output_type": "stream",
     "text": [
      "1.5.2\n"
     ]
    }
   ],
   "source": [
    "print(sklearn.__version__)"
   ]
  }
 ],
 "metadata": {
  "kernelspec": {
   "display_name": "Python 3",
   "language": "python",
   "name": "python3"
  },
  "language_info": {
   "codemirror_mode": {
    "name": "ipython",
    "version": 3
   },
   "file_extension": ".py",
   "mimetype": "text/x-python",
   "name": "python",
   "nbconvert_exporter": "python",
   "pygments_lexer": "ipython3",
   "version": "3.12.6"
  }
 },
 "nbformat": 4,
 "nbformat_minor": 5
}
